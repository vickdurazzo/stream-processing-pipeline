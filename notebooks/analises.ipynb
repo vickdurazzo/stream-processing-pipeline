{
 "cells": [
  {
   "cell_type": "code",
   "execution_count": 24,
   "id": "57a81f1d-06e8-4263-b811-3374c66e1985",
   "metadata": {},
   "outputs": [],
   "source": [
    "from pyspark.sql.functions import window, col\n",
    "\n",
    "inputPath = \"/home/jovyan/work/parquet_output\"  # Caminho para seus Parquet\n",
    "\n",
    "# 1. Inferir schema de forma estática\n",
    "inferredSchema = spark.read.parquet(inputPath).schema\n",
    "\n",
    "# 2. Usar o schema no streaming\n",
    "streamingInputDF = (\n",
    "    spark\n",
    "      .readStream\n",
    "      .schema(inferredSchema)  # ← agora temos o schema inferido\n",
    "      .option(\"maxFilesPerTrigger\", 1)\n",
    "      .parquet(inputPath)\n",
    ")\n",
    "\n",
    "# Agrupamento por tipo de ação e janela de 1 hora\n",
    "streamingCountsDF = (\n",
    "    streamingInputDF\n",
    "      .withColumn(\"createdAt\", col(\"createdAt\").cast(\"timestamp\"))  # ajuste se seu campo tiver outro nome\n",
    "      .groupBy(\n",
    "          \"department\",\n",
    "          window(col(\"createdAt\"), \"5 minutes\")\n",
    "      )\n",
    "      .count()\n",
    ")\n",
    "\n"
   ]
  },
  {
   "cell_type": "code",
   "execution_count": 31,
   "id": "440efa73-dcf8-4f0e-8a62-d6e6b832b624",
   "metadata": {},
   "outputs": [],
   "source": [
    "# Query em memória para análise interativa\n",
    "query = (\n",
    "    streamingCountsDF\n",
    "      .writeStream\n",
    "      .format(\"memory\")\n",
    "      .queryName(\"contagem\")\n",
    "      .outputMode(\"complete\")\n",
    "      .start()\n",
    ")\n"
   ]
  },
  {
   "cell_type": "code",
   "execution_count": 32,
   "id": "536f30d8-6498-43fe-8138-2d4c64fe5f7f",
   "metadata": {},
   "outputs": [
    {
     "data": {
      "text/plain": [
       "[<pyspark.sql.streaming.query.StreamingQuery at 0x7fe18f065490>]"
      ]
     },
     "execution_count": 32,
     "metadata": {},
     "output_type": "execute_result"
    }
   ],
   "source": [
    "spark.streams.active"
   ]
  },
  {
   "cell_type": "code",
   "execution_count": 33,
   "id": "b93e48c4-0c35-414f-bd6f-0976ef3b6dc3",
   "metadata": {},
   "outputs": [
    {
     "data": {
      "text/plain": [
       "[Table(name='contagem', catalog=None, namespace=[], description=None, tableType='TEMPORARY', isTemporary=True)]"
      ]
     },
     "execution_count": 33,
     "metadata": {},
     "output_type": "execute_result"
    }
   ],
   "source": [
    "spark.catalog.listTables()\n"
   ]
  },
  {
   "cell_type": "code",
   "execution_count": 37,
   "id": "7cfef679-ab89-458c-9d0f-9d93d30dd0b5",
   "metadata": {},
   "outputs": [
    {
     "name": "stdout",
     "output_type": "stream",
     "text": [
      "+-----------+----------+-----+\n",
      "|department |fim_janela|count|\n",
      "+-----------+----------+-----+\n",
      "|Music      |01:30     |424  |\n",
      "|Books      |01:30     |417  |\n",
      "|Sports     |01:30     |411  |\n",
      "|Beauty     |01:30     |394  |\n",
      "|Home       |01:30     |393  |\n",
      "|Industrial |01:30     |393  |\n",
      "|Movies     |01:30     |392  |\n",
      "|Garden     |01:30     |390  |\n",
      "|Tools      |01:30     |386  |\n",
      "|Games      |01:30     |384  |\n",
      "|Jewelery   |01:30     |384  |\n",
      "|Computers  |01:30     |383  |\n",
      "|Health     |01:30     |380  |\n",
      "|Clothing   |01:30     |380  |\n",
      "|Shoes      |01:30     |376  |\n",
      "|Electronics|01:30     |372  |\n",
      "|Kids       |01:30     |370  |\n",
      "|Baby       |01:30     |368  |\n",
      "|Grocery    |01:30     |366  |\n",
      "|Automotive |01:30     |359  |\n",
      "+-----------+----------+-----+\n",
      "only showing top 20 rows\n",
      "\n"
     ]
    }
   ],
   "source": [
    "spark.sql(\"\"\"\n",
    "SELECT department, \n",
    "       date_format(window.end, \"HH:mm\") as fim_janela, \n",
    "       count \n",
    "FROM contagem \n",
    "ORDER BY fim_janela DESC, count DESC\n",
    "\"\"\").show(truncate=False)\n"
   ]
  },
  {
   "cell_type": "code",
   "execution_count": 38,
   "id": "561df196-1fce-4748-8da1-91b5027d586d",
   "metadata": {},
   "outputs": [
    {
     "name": "stdout",
     "output_type": "stream",
     "text": [
      "+----------+\n",
      "|sum(count)|\n",
      "+----------+\n",
      "|56700     |\n",
      "+----------+\n",
      "\n"
     ]
    }
   ],
   "source": [
    "spark.sql(\"\"\"\n",
    "SELECT sum(count)\n",
    "FROM contagem \n",
    "\"\"\").show(truncate=False)"
   ]
  },
  {
   "cell_type": "code",
   "execution_count": 39,
   "id": "7195ffa2-379e-4f2c-99ca-c7c50de25a03",
   "metadata": {},
   "outputs": [
    {
     "name": "stdout",
     "output_type": "stream",
     "text": [
      "+----------+\n",
      "|sum(count)|\n",
      "+----------+\n",
      "|63600     |\n",
      "+----------+\n",
      "\n"
     ]
    }
   ],
   "source": [
    "spark.sql(\"\"\"\n",
    "SELECT sum(count)\n",
    "FROM contagem \n",
    "\"\"\").show(truncate=False)"
   ]
  },
  {
   "cell_type": "code",
   "execution_count": 40,
   "id": "8622982c-1229-40db-a327-db2b2c8ea54e",
   "metadata": {},
   "outputs": [
    {
     "name": "stdout",
     "output_type": "stream",
     "text": [
      "+----------+\n",
      "|sum(count)|\n",
      "+----------+\n",
      "|82100     |\n",
      "+----------+\n",
      "\n"
     ]
    }
   ],
   "source": [
    "spark.sql(\"\"\"\n",
    "SELECT sum(count)\n",
    "FROM contagem \n",
    "\"\"\").show(truncate=False)"
   ]
  },
  {
   "cell_type": "code",
   "execution_count": null,
   "id": "8232fc0f-3cb3-4d72-9c6e-91a0b3afcd27",
   "metadata": {},
   "outputs": [],
   "source": []
  }
 ],
 "metadata": {
  "kernelspec": {
   "display_name": "Python 3 (ipykernel)",
   "language": "python",
   "name": "python3"
  },
  "language_info": {
   "codemirror_mode": {
    "name": "ipython",
    "version": 3
   },
   "file_extension": ".py",
   "mimetype": "text/x-python",
   "name": "python",
   "nbconvert_exporter": "python",
   "pygments_lexer": "ipython3",
   "version": "3.11.6"
  }
 },
 "nbformat": 4,
 "nbformat_minor": 5
}
