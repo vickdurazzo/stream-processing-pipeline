{
 "cells": [
  {
   "cell_type": "code",
   "execution_count": 1,
   "id": "c8b4a1a1",
   "metadata": {},
   "outputs": [],
   "source": [
    "#Importando bibliotecas\n",
    "from pyspark.sql import SparkSession\n",
    "from pyspark.sql.functions import from_json, col\n",
    "from pyspark.sql.types import StructType, StringType, TimestampType\n"
   ]
  },
  {
   "cell_type": "code",
   "execution_count": 2,
   "id": "7266a3ae",
   "metadata": {},
   "outputs": [],
   "source": [
    "#Criação da sessão do spark\n",
    "spark = SparkSession.builder \\\n",
    "    .appName(\"KafkaToParquet\") \\\n",
    "    .config(\"spark.jars.packages\", \"org.apache.spark:spark-sql-kafka-0-10_2.12:3.3.0\") \\\n",
    "    .getOrCreate()\n"
   ]
  },
  {
   "cell_type": "code",
   "execution_count": 3,
   "id": "1310197f",
   "metadata": {},
   "outputs": [],
   "source": [
    "#Definição schema esperado\n",
    "schema = StructType() \\\n",
    "    .add(\"id\", StringType()) \\\n",
    "    .add(\"user_id\", StringType()) \\\n",
    "    .add(\"name\", StringType()) \\\n",
    "    .add(\"description\", StringType()) \\\n",
    "    .add(\"price\", StringType()) \\\n",
    "    .add(\"department\", StringType()) \\\n",
    "    .add(\"image\", StringType()) \\\n",
    "    .add(\"createdAt\", TimestampType())\n"
   ]
  },
  {
   "cell_type": "code",
   "execution_count": null,
   "id": "5279beb6",
   "metadata": {},
   "outputs": [],
   "source": [
    "\"\"\"\n",
    "Leitura continua do kafka\n",
    "\n",
    "-conecta com broker\n",
    "-escuta o topico \"products\"\n",
    "-caputra apenas das mensagens mais recentes\n",
    "\"\"\"\n",
    "raw_df = spark.readStream \\\n",
    "    .format(\"kafka\") \\\n",
    "    .option(\"kafka.bootstrap.servers\", \"kafka:9092\") \\\n",
    "    .option(\"subscribe\", \"products\") \\\n",
    "    .option(\"startingOffsets\", \"latest\") \\\n",
    "    .load()\n",
    "    \n",
    "\"\"\"\n",
    "-Tranformamos em texto os arquivo binarios que vem do kafka\n",
    "-interpretamos como json e aplica o schema\n",
    "-extrai cada campo do json como a coluna do dataframe definido\n",
    "\"\"\"\n",
    "json_df = raw_df.selectExpr(\"CAST(value AS STRING)\") \\\n",
    "    .select(from_json(col(\"value\"), schema).alias(\"data\")) \\\n",
    "    .select(\"data.*\")\n",
    "\n",
    "\"\"\"\n",
    "Escrita continua\n",
    "-define a saida sera continua em streaming\n",
    "-grava em formato parquet\n",
    "-usamos o checkpointLocation para controlar o processo e evitar duplicações\n",
    "\"\"\"\n",
    "query = json_df.writeStream \\\n",
    "    .format(\"parquet\") \\\n",
    "    .outputMode(\"append\") \\\n",
    "    .option(\"path\", \"/home/jovyan/work/parquet_output\") \\\n",
    "    .option(\"checkpointLocation\", \"/home/jovyan/work/checkpoint\") \\\n",
    "    .start()\n",
    "\n",
    "\n",
    "\"\"\"\n",
    "Espera do processo terminar\n",
    "- mantem o processo rodando infinitamente até cancelarmos manualmente\n",
    "\"\"\"\n",
    "query.awaitTermination()"
   ]
  },
  {
   "cell_type": "code",
   "execution_count": null,
   "id": "b4b94d13-481e-4a82-b392-5fdb24d1fc9e",
   "metadata": {},
   "outputs": [],
   "source": []
  }
 ],
 "metadata": {
  "kernelspec": {
   "display_name": "Python 3 (ipykernel)",
   "language": "python",
   "name": "python3"
  },
  "language_info": {
   "codemirror_mode": {
    "name": "ipython",
    "version": 3
   },
   "file_extension": ".py",
   "mimetype": "text/x-python",
   "name": "python",
   "nbconvert_exporter": "python",
   "pygments_lexer": "ipython3",
   "version": "3.11.6"
  }
 },
 "nbformat": 4,
 "nbformat_minor": 5
}
